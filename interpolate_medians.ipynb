{
 "cells": [
  {
   "cell_type": "markdown",
   "metadata": {},
   "source": [
    "### Experiemental code for interpolating the median age from grouped age category data, via the [Los Angeles Times Data Desk](https://github.com/datadesk). \n",
    "\n",
    "### For more information, see: https://github.com/datadesk/census-data-aggregator"
   ]
  },
  {
   "cell_type": "code",
   "execution_count": 1,
   "metadata": {},
   "outputs": [],
   "source": [
    "import math"
   ]
  },
  {
   "cell_type": "code",
   "execution_count": 2,
   "metadata": {},
   "outputs": [],
   "source": [
    "def approximate_median(range_list):\n",
    "    \"\"\"\n",
    "    Returns the estimated median from a set of ranged totals.\n",
    "    Useful for generated medians for measures like median household income and median age when aggregating census geographies.\n",
    "    Expects a list of dictionaries with three keys:\n",
    "        min: The minimum value in the range\n",
    "        max: The maximum value in the range\n",
    "        n: The number of people, households or other universe figure in the range\n",
    "    \"\"\"\n",
    "    # Sort the list\n",
    "    range_list.sort(key=lambda x: x['min'])\n",
    "\n",
    "    # What is the total number of observations in the universe?\n",
    "    n = sum([d['n'] for d in range_list])\n",
    "\n",
    "    # What is the midpoint of the universe?\n",
    "    midpoint = n / 2.0\n",
    "\n",
    "    # For each range calculate its min and max value along the universe's scale\n",
    "    cumulative_n = 0\n",
    "    for range_ in range_list:\n",
    "        range_['n_min'] = cumulative_n\n",
    "        cumulative_n += range_['n']\n",
    "        range_['n_max'] = cumulative_n\n",
    "\n",
    "    # Now use those to determine which group contains the midpoint.\n",
    "    try:\n",
    "        midpoint_range = next(d for d in range_list if midpoint >= d['n_min'] and midpoint <= d['n_max'])\n",
    "    except StopIteration:\n",
    "        raise StopIteration(\"The midpoint of the total does not fall within a data range.\")\n",
    "\n",
    "    # How many households in the midrange are needed to reach the midpoint?\n",
    "    midrange_gap = midpoint - midpoint_range['n_min']\n",
    "\n",
    "    # What is the proportion of the group that would be needed to get the midpoint?\n",
    "    midrange_gap_percent = midrange_gap / midpoint_range['n']\n",
    "\n",
    "    # Apply this proportion to the width of the midrange\n",
    "    midrange_gap_adjusted = (midpoint_range['max'] - midpoint_range['min']) * midrange_gap_percent\n",
    "\n",
    "    # Estimate the median\n",
    "    estimated_median = midpoint_range['min'] + midrange_gap_adjusted\n",
    "\n",
    "    # Return the result\n",
    "    return estimated_median"
   ]
  },
  {
   "cell_type": "markdown",
   "metadata": {},
   "source": [
    "### Estimate the median age of D.C.'s 2018 population, by race"
   ]
  },
  {
   "cell_type": "code",
   "execution_count": 3,
   "metadata": {},
   "outputs": [],
   "source": [
    "import pandas as pd"
   ]
  },
  {
   "cell_type": "code",
   "execution_count": 4,
   "metadata": {},
   "outputs": [],
   "source": [
    "dc = pd.read_csv('dc_age2018.csv')"
   ]
  },
  {
   "cell_type": "code",
   "execution_count": 5,
   "metadata": {},
   "outputs": [
    {
     "name": "stdout",
     "output_type": "stream",
     "text": [
      "White\n",
      "32.0\n",
      "Black\n",
      "38.0\n",
      "MultipleOther\n",
      "26.0\n",
      "Asian\n",
      "32.0\n",
      "Hispanic\n",
      "31.0\n"
     ]
    }
   ],
   "source": [
    "for i in dc['race_cat'].unique():\n",
    "    print(i)\n",
    "    dc_race = dc.loc[dc['race_cat'] == i][['min', 'max', 'n']].to_dict('records')\n",
    "    print(round(approximate_median(dc_race)))"
   ]
  }
 ],
 "metadata": {
  "kernelspec": {
   "display_name": "Python 3",
   "language": "python",
   "name": "python3"
  },
  "language_info": {
   "codemirror_mode": {
    "name": "ipython",
    "version": 3
   },
   "file_extension": ".py",
   "mimetype": "text/x-python",
   "name": "python",
   "nbconvert_exporter": "python",
   "pygments_lexer": "ipython3",
   "version": "3.7.2"
  }
 },
 "nbformat": 4,
 "nbformat_minor": 2
}
